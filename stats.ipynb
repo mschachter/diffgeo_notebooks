{
 "cells": [
  {
   "cell_type": "markdown",
   "metadata": {},
   "source": [
    "# Stats Notebook"
   ]
  },
  {
   "cell_type": "markdown",
   "metadata": {},
   "source": [
    "## Experimental Design\n",
    "\n",
    "#### Controlled vs Observational Study\n",
    "\n",
    "A *controlled study* is one where the researcher has control over experimental variables and actively treats partipants. An *observational study* is one where the researcher observes the participants and records variables.\n",
    "\n",
    "#### Process of Designing a Controlled Study\n",
    "\n",
    "1. Determine the *experimental unit*, the smallest unit of measurement, and the dependent variable to be measured.\n",
    "2. Determine the type of sampling to be done from the population, and the number of samples. Might require simulations to determine statistical power.\n",
    "3. Determine the experimental variables:\n",
    "    * *Background variables* are identified and measured, but cannot be controlled. They are treated as covariates. \n",
    "    * *Independent variables* are the variables of interest to the researcher.\n",
    "    * *Uncontrolled variables* cannot really be measured or controlled.\n",
    "\n",
    "#### Types of Experimental Designs\n",
    "\n",
    "<table>\n",
    "    <tr>\n",
    "        <th>Design</th>\n",
    "        <th>Description</th>\n",
    "        <th>Pros</th>\n",
    "        <th>Cons</th>\n",
    "        <th>Control</th>            \n",
    "    </tr>\n",
    "    <tr>\n",
    "        <td>Independent Measures (between groups)</td>    \n",
    "        <td>Random group for each treatment/level</td>\n",
    "        <td>Avoids order effects</td>\n",
    "        <td>More people are needed. Differences between groups need to be controlled for.</td>\n",
    "        <td>Random assignment of participants to groups</td>        \n",
    "    </tr>   \n",
    "    <tr>\n",
    "        <td>Repeated Measures (within groups)</td>\n",
    "        <td>Each treatment/level is applied to each participant.</td>\n",
    "        <td>Reduction in individual difference variability. Fewer people needed.</td>\n",
    "        <td>Possibility of order effects.</td>\n",
    "        <td>Counterbalancing: different order for each participant.</td>            \n",
    "    </tr>\n",
    "    <tr>\n",
    "        <td>Matched Pairs</td>\n",
    "        <td>Data comprised of pairs of participants that are matched on as many background variables as possible. Different treatment is applied to each member of the pair.</td>\n",
    "        <td>Avoids order effects, reduces individual variability issues.</td>\n",
    "        <td>Expensive to identify pairs, they are never identical.</td>\n",
    "        <td>Members randomly assigned conditions.</td>        \n",
    "    </tr>\n",
    "</table>\n",
    "\n",
    "#### Blocks\n",
    "\n",
    "Blocks are subsets of participants that experience different experimental settings, such as environment or geographic location. They are often modeled as *random effects*.\n",
    "\n",
    "#### Cross-sectional and Longitudinal Studies\n",
    "\n",
    "A *longitudinal study* follows the same participants over a period of time. A *cross-sectional* study takes a snapshot of partipants that span different points in the time period under study.\n",
    "\n",
    "\n"
   ]
  },
  {
   "cell_type": "markdown",
   "metadata": {},
   "source": [
    "## Hypothesis Testing\n",
    "\n"
   ]
  },
  {
   "cell_type": "markdown",
   "metadata": {},
   "source": [
    "## Location and Scale Estimators\n",
    "\n"
   ]
  },
  {
   "cell_type": "markdown",
   "metadata": {},
   "source": [
    "## Distributional Methods\n",
    "\n"
   ]
  },
  {
   "cell_type": "markdown",
   "metadata": {},
   "source": [
    "## Sampling\n",
    "\n"
   ]
  },
  {
   "cell_type": "markdown",
   "metadata": {},
   "source": [
    "## Pairwise Methods\n",
    "\n"
   ]
  },
  {
   "cell_type": "markdown",
   "metadata": {},
   "source": [
    "## Time Series\n",
    "\n",
    "\n"
   ]
  },
  {
   "cell_type": "markdown",
   "metadata": {},
   "source": [
    "## Regression\n",
    "\n"
   ]
  },
  {
   "cell_type": "markdown",
   "metadata": {},
   "source": [
    "## ANOVA and Mixed Effects\n",
    "\n"
   ]
  },
  {
   "cell_type": "markdown",
   "metadata": {},
   "source": [
    "## Optimization and Matrix Factorization\n",
    "\n",
    "\n"
   ]
  },
  {
   "cell_type": "markdown",
   "metadata": {},
   "source": [
    "## Scaling\n",
    "\n"
   ]
  }
 ],
 "metadata": {
  "kernelspec": {
   "display_name": "Python 3",
   "language": "python",
   "name": "python3"
  },
  "language_info": {
   "codemirror_mode": {
    "name": "ipython",
    "version": 3
   },
   "file_extension": ".py",
   "mimetype": "text/x-python",
   "name": "python",
   "nbconvert_exporter": "python",
   "pygments_lexer": "ipython3",
   "version": "3.7.1"
  }
 },
 "nbformat": 4,
 "nbformat_minor": 2
}
